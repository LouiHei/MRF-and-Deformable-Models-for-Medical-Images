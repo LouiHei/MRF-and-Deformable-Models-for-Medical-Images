{
 "cells": [
  {
   "cell_type": "code",
   "execution_count": 1,
   "metadata": {},
   "outputs": [],
   "source": [
    "# Import packages \n",
    "import numpy as np\n",
    "from matplotlib import pyplot as plt\n",
    "import skimage\n"
   ]
  },
  {
   "cell_type": "code",
   "execution_count": 7,
   "metadata": {},
   "outputs": [
    {
     "name": "stdout",
     "output_type": "stream",
     "text": [
      "The mean intensities are 0.22476746912198814 inside and 0.09391015707044044 outside\n"
     ]
    },
    {
     "data": {
      "image/png": "[encoded data removed]",
      "text/plain": [
       "<Figure size 432x288 with 1 Axes>"
      ]
     },
     "metadata": {
      "needs_background": "light"
     },
     "output_type": "display_data"
    }
   ],
   "source": [
    "# Load data as binary image:\n",
    "Square = skimage.color.rgb2gray(skimage.io.imread(\"TestImageSimple.png\")).astype(np.int);\n",
    "h,w = Square.shape\n",
    "\n",
    "# Make the initial Snake a circle:\n",
    "def InitSnake(center, radius, npoints):\n",
    "    t = np.linspace(0,2*np.pi, npoints)\n",
    "    Snake = np.asarray([center[0] + radius*np.cos(t), center[1] + radius*np.sin(t)])\n",
    "    return Snake\n",
    "\n",
    "Snake = InitSnake((h/2,w/2), h/3, 40)\n",
    "Snake[0,0] = [0,0]\n",
    "# Find Region Of Interest and its inverse mask (= Snake curve interior and exterior area) \n",
    "def FindROI(im, curve):\n",
    "    # Allocate list names:\n",
    "    ROI = []; notROI = []\n",
    "    \n",
    "    # Make set of all image indices:\n",
    "    i,j = np.indices(im.shape); indices = np.asarray([i.flatten(),j.flatten()])\n",
    "    \n",
    "    # Divide set of indices into ROI (= inside polygon) or notROI (= outside polygon)\n",
    "    truth = skimage.measure.points_in_poly(indices.T, curve.T)\n",
    "    for x in range(len(truth)):\n",
    "        if truth[x] == True:\n",
    "            ROI.append([indices[0][x], indices[1][x]])\n",
    "        else:\n",
    "            notROI.append([indices[0][x], indices[1][x]])\n",
    "    ROI = np.transpose(ROI); notROI = np.transpose(notROI)\n",
    "    return ROI, notROI\n",
    "\n",
    "ROI, notROI = FindROI(Square, Snake)\n",
    "\n",
    "plt.imshow(Square, cmap = 'gray');\n",
    "plt.axis(\"off\");\n",
    "plt.plot(Snake[0,:], Snake[1,:], color = 'r', linewidth = 1)\n",
    "plt.scatter(ROI[0,:], ROI[1,:], alpha = 0.007, color = 'r');\n",
    "plt.scatter(notROI[0,:], notROI[1,:], alpha = 0.007, color = 'b');\n",
    "plt.title('Regions Of Interest');\n",
    "\n",
    "# Find mean intensities:\n",
    "m_in  = np.mean(Square[ROI])\n",
    "m_out = np.mean(Square[notROI])\n",
    "print('The mean intensities are', m_in, 'inside and', m_out, 'outside')\n",
    "\n"
   ]
  },
  {
   "cell_type": "code",
   "execution_count": 10,
   "metadata": {},
   "outputs": [
    {
     "name": "stdout",
     "output_type": "stream",
     "text": [
      "[[0.         0.         0.         0.         0.         0.\n",
      "  0.         0.         0.         0.         0.         0.\n",
      "  0.         0.         0.         0.         0.         0.\n",
      "  0.         0.         0.         0.         0.         0.\n",
      "  0.         0.         0.         0.         0.         0.\n",
      "  0.         0.         1.         1.         1.         1.\n",
      "  1.         0.14635581 0.         0.        ]]\n",
      "[[-0.0417013  -0.0417013  -0.0417013  -0.0417013  -0.0417013  -0.0417013\n",
      "  -0.0417013  -0.0417013  -0.0417013  -0.0417013  -0.0417013  -0.0417013\n",
      "  -0.0417013  -0.0417013  -0.0417013  -0.0417013  -0.0417013  -0.0417013\n",
      "  -0.0417013  -0.0417013  -0.0417013  -0.0417013  -0.0417013  -0.0417013\n",
      "  -0.0417013  -0.0417013  -0.0417013  -0.0417013  -0.0417013  -0.0417013\n",
      "  -0.0417013  -0.0417013   0.22001333  0.22001333  0.22001333  0.22001333\n",
      "   0.22001333 -0.00339784 -0.0417013  -0.0417013 ]]\n"
     ]
    },
    {
     "data": {
      "image/png": "[encoded data removed]",
      "text/plain": [
       "<Figure size 432x288 with 1 Axes>"
      ]
     },
     "metadata": {
      "needs_background": "light"
     },
     "output_type": "display_data"
    }
   ],
   "source": [
    "# Compute bilinear interpolaten of the Snake curve:\n",
    "def BilinearInterpol(im, curve):\n",
    "    # Associated intensity after interpolation:\n",
    "    IntensityOut = np.zeros((1,curve.shape[1]))\n",
    "    \n",
    "    for i in range(curve.shape[1]):\n",
    "        # Declare pixel locations and 'distance' from pixels \n",
    "        x  = curve[0,i]\n",
    "        y  = curve[1,i]\n",
    "        x0 = np.floor(x)\n",
    "        x1 = np.ceil(x)\n",
    "        y0 = np.floor(y)\n",
    "        y1 = np.ceil(y)\n",
    "        dx = x - x0\n",
    "        dy = y - y0\n",
    "        Nhood = np.asarray([[x0, x0, x1, x1], [y0, y1, y0, y1]]).astype(np.int)\n",
    "        dist = np.asarray([ (1 - dx)*(1 - dy), dx*(1 - dy), (1 - dx)*dy, dx*dy ])\n",
    "        IntensityOut[0,i] = im[Nhood[0], Nhood[1]].dot(dist)\n",
    "    #IntensityOut = np.fliplr(IntensityOut)\n",
    "    return IntensityOut\n",
    "\n",
    "Intensities = BilinearInterpol(Square, Snake)\n",
    "\n",
    "\n",
    "# Using these Regions Of Interest, Compute the magnitude (scalar value) of the Snake displacement:\n",
    "# Fext =(m_in − m_out)*(2*I − m_in − m_out)*N\n",
    "def ComputeDisplacement(im, curve):\n",
    "    # Find mean intensities as before with ROI:\n",
    "    ROI, notROI = FindROI(im, curve)\n",
    "    m_in  = np.mean(im[ROI])\n",
    "    m_out = np.mean(im[notROI])\n",
    "    I = BilinearInterpol(im, curve)\n",
    "    Fext = (m_in - m_out)*(2*I - m_in - m_out)\n",
    "    return Fext\n",
    "\n",
    "Fmagn = ComputeDisplacement(Square, Snake)\n",
    "print(Intensities)\n",
    "\n",
    "\n",
    "print(Fmagn)\n",
    "\n",
    "# Find normal vectors of the Snake curve:\n",
    "def NormalVectors(im, curve):\n",
    "    # Allocate space\n",
    "    NormVecs = np.zeros((2, curve.shape[1]))\n",
    "    TangVecs = np.zeros((2, curve.shape[1]))\n",
    "    \n",
    "    # Calculate tangent vectors with finite dfference\n",
    "    TangVecs[:,0] = np.asarray([curve[0,1] - curve[0,-1], curve[1,1] - curve[1,-1]])\n",
    "    TangVecs[:,-1] = TangVecs[:,0]\n",
    "    for i in range(1,curve.shape[1]-1):\n",
    "        TangVecs[:,i] = np.asarray([curve[0,i+1] - curve[0,i-1], curve[1,i+1] - curve[1,i-1]])\n",
    "        \n",
    "    # Normalize lengths\n",
    "    lengths = np.sqrt(TangVecs[0,:]**2 + TangVecs[1,:]**2) \n",
    "    TangVecs = np.divide(TangVecs, lengths)\n",
    "    \n",
    "    # Compute normal as a 90 degree rotation\n",
    "    NormVecs[0,:] = TangVecs[1,:]\n",
    "    NormVecs[1,:] = -TangVecs[0,:]\n",
    "    \n",
    "    # Multiply with correct lengths\n",
    "    F = ComputeDisplacement(im, curve)\n",
    "    NormVecs = np.multiply(NormVecs, F)\n",
    "    \n",
    "    return NormVecs\n",
    "\n",
    "NormVecs = NormalVectors(Square,Snake)\n",
    "lengths = np.sqrt(NormVecs[0,:]**2 + NormVecs[1,:]**2) \n",
    "\n",
    "#NormVecsx = np.asarray(np.gradient(Snake))\n",
    "#NormVecsy = np.asarray(np.gradient(Snake[1,:]))\n",
    "#NormVecs  = np.asarray([NormVecsx, NormVecsy])\n",
    "\n",
    "plt.imshow(Square, cmap = 'gray');\n",
    "plt.axis(\"off\");\n",
    "plt.plot(Snake[0,:], Snake[1,:], color = 'r', linewidth = 1)\n",
    "plt.quiver(Snake[0,:], Snake[1,:], NormVecs[0,:], NormVecs[1,:], color = 'r', angles = 'xy')\n",
    "plt.title('Normal Vectors');\n",
    "\n"
   ]
  },
  {
   "cell_type": "code",
   "execution_count": 158,
   "metadata": {},
   "outputs": [],
   "source": [
    "# Construct the transformation matrices:\n",
    "# Kernel for minimum length\n",
    "Lml = -2*np.identity(h, dtype = None).astype(np.int); \n",
    "for x in range(0,h):\n",
    "    Lml[x-1,x] = 1\n",
    "    Lml[x,x-1] = 1\n",
    "\n",
    "# Kernel for minimum curvature\n",
    "Lmc = -6*np.identity(h, dtype = None).astype(np.int)\n",
    "for x in range(0,h):\n",
    "    Lmc[x-1,x] = 4\n",
    "    Lmc[x,x-1] = 4\n",
    "    Lmc[x-2,x] = -1\n",
    "    Lmc[x,x-2] = -1"
   ]
  }
 ],
 "metadata": {
  "kernelspec": {
   "display_name": "Python 3",
   "language": "python",
   "name": "python3"
  },
  "language_info": {
   "codemirror_mode": {
    "name": "ipython",
    "version": 3
   },
   "file_extension": ".py",
   "mimetype": "text/x-python",
   "name": "python",
   "nbconvert_exporter": "python",
   "pygments_lexer": "ipython3",
   "version": "3.7.1"
  }
 },
 "nbformat": 4,
 "nbformat_minor": 2
}
