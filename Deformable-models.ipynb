{
 "cells": [
  {
   "cell_type": "code",
   "execution_count": 52,
   "metadata": {},
   "outputs": [],
   "source": [
    "# Import packages \n",
    "import numpy as np\n",
    "from matplotlib import pyplot as plt\n",
    "import skimage\n",
    "import math"
   ]
  },
  {
   "cell_type": "code",
   "execution_count": 3,
   "metadata": {},
   "outputs": [
    {
     "data": {
      "text/plain": [
       "<matplotlib.collections.PathCollection at 0x7f4c87a5a1d0>"
      ]
     },
     "execution_count": 3,
     "metadata": {},
     "output_type": "execute_result"
    },
    {
     "data": {
      "image/png": "[encoded data removed]",
      "text/plain": [
       "<Figure size 432x288 with 1 Axes>"
      ]
     },
     "metadata": {
      "needs_background": "light"
     },
     "output_type": "display_data"
    }
   ],
   "source": [
    "# Load data as binary image:\n",
    "Square = skimage.color.rgb2gray(skimage.io.imread(\"sample.png\")).astype(np.int);\n",
    "h,w = Square.shape\n",
    "\n",
    "plt.imshow(Square, cmap = 'gray');\n",
    "plt.axis(\"off\");\n",
    "\n",
    "# Make the initial Snake as a circle:\n",
    "def InitSnake(center, radius, npoints):\n",
    "    t = np.linspace(0,2*np.pi, npoints)\n",
    "    Snake = np.asarray([center[0] + radius*np.cos(t), center[1] + radius*np.sin(t)])\n",
    "    return Snake, center, radius\n",
    "\n",
    "Snake, c, r = InitSnake((h/2,w/2), h/3, 20)\n",
    "plt.plot(Snake[0,:], Snake[1,:], color = 'r', linewidth = 1)\n",
    "\n",
    "def FindROI(im,curve):\n",
    "    #use skimage to find mask from curve\n",
    "    ROI=[]\n",
    "    notROI=[]\n",
    "    i,j= np.indices(im.shape)\n",
    "    indices=np.asarray([i.flatten(),j.flatten()])\n",
    "    truth=skimage.measure.points_in_poly(indices.T,Snake.T)\n",
    "    for x in range(len(truth)):\n",
    "        if truth[x] == True:\n",
    "            ROI.append([indices[0][x],indices[1][x]])\n",
    "        else:\n",
    "            notROI.append([indices[0][x],indices[1][x]])\n",
    "    return np.transpose(ROI),np.transpose(notROI)\n",
    "\n",
    "ROI,notROI=FindROI(Square,Snake)\n",
    "\n",
    "plt.scatter(ROI[0,:],ROI[1,:],alpha=0.01)\n",
    "plt.scatter(notROI[0,:],notROI[1,:],alpha=0.01)\n",
    "    \n"
   ]
  },
  {
   "cell_type": "code",
   "execution_count": 55,
   "metadata": {},
   "outputs": [
    {
     "name": "stdout",
     "output_type": "stream",
     "text": [
      "-26.08605823335381 59.47022261534087\n"
     ]
    },
    {
     "data": {
      "image/png": "[encoded data removed]",
      "text/plain": [
       "<Figure size 432x288 with 1 Axes>"
      ]
     },
     "metadata": {
      "needs_background": "light"
     },
     "output_type": "display_data"
    }
   ],
   "source": [
    "# Compute bilinear interpolaten of the Snake curve:\n",
    "def BilinearInterpol(im, curve):\n",
    "    # Associated intensity after interpolation:\n",
    "    IntensityOut = np.zeros((1,curve.shape[1]))\n",
    "    \n",
    "    for i in range(curve.shape[1]):\n",
    "        # Declare pixel locations and 'distance' from pixels \n",
    "        x  = curve[0][i]\n",
    "        y  = curve[1][i]\n",
    "        x0 = np.floor(x)\n",
    "        x1 = np.ceil(x)\n",
    "        y0 = np.floor(y)\n",
    "        y1 = np.ceil(y)\n",
    "        dx = x - x0\n",
    "        dy = y - y0\n",
    "        Nhood = np.asarray([[x0, x0, x1, x1], [y0, y1, y0, y1]]).astype(np.int)\n",
    "        dist = np.asarray([ (1 - dx)*(1 - dy), dx*(1 - dy), (1 - dx)*dy, dx*dy ])\n",
    "        IntensityOut[0,i] = im[Nhood[0], Nhood[1]].dot(dist)\n",
    "    return IntensityOut\n",
    "\n",
    "Intensities = BilinearInterpol(Square, Snake)\n",
    "\n",
    "# Using these Regions Of Interest, Compute the magnitude (scalar value) of the Snake displacement:\n",
    "# Fext =(m_in − m_out)*(2*I − m_in − m_out)*N\n",
    "def ComputeDisplacement(im, curve):\n",
    "    # Find mean intensities as before with ROI:\n",
    "    ROI, notROI = FindROI(im, curve)\n",
    "    m_in  = np.mean(im[ROI])\n",
    "    m_out = np.mean(im[notROI])\n",
    "    I = BilinearInterpol(im, curve)\n",
    "    Fext = (m_in - m_out)*(2*I - m_in - m_out)\n",
    "    return Fext\n",
    "\n",
    "Fmagn = ComputeDisplacement(Square, Snake)\n",
    "\n",
    "def rotate(origin, point, angle):\n",
    "    \"\"\"\n",
    "    Rotate a point counterclockwise by a given angle around a given origin.\n",
    "\n",
    "    The angle should be given in radians.\n",
    "    \"\"\"\n",
    "    ox, oy = origin\n",
    "    px, py = point\n",
    "\n",
    "    qx = ox + math.cos(angle) * (px - ox) - math.sin(angle) * (py - oy)\n",
    "    qy = oy + math.sin(angle) * (px - ox) + math.cos(angle) * (py - oy)\n",
    "    return qx, qy\n",
    "\n",
    "# Find normal vectors of the Snake curve:\n",
    "def NormalVectors(curve):\n",
    "    NormVecs = np.zeros((2, curve.shape[1]))\n",
    "    TangVecs = np.zeros((2, curve.shape[1]))\n",
    "    for i in range(curve.shape[1]-1):\n",
    "        TangVecs[:,i] = np.asarray([curve[0][i+1] - curve[0][i-1], curve[1][i+1] - curve[1][i-1]])\n",
    "    TangVecs[:,-1] = TangVecs[:,0]\n",
    "    \n",
    "                     \n",
    "    NormVecs[0,:]=TangVecs[1,:]\n",
    "    NormVecs[1,:]=-TangVecs[0,:]\n",
    "    return NormVecs\n",
    "\n",
    "\n",
    "\n",
    "NormVecs = NormalVectors(Snake)\n",
    "#NormVecsx = np.asarray(np.gradient(Snake))\n",
    "#NormVecsy = np.asarray(np.gradient(Snake[1,:]))\n",
    "#NormVecs  = np.asarray([NormVecsx, NormVecsy])\n",
    "\n",
    "#print(Snake[0,5:8],Snake[1,5:8])\n",
    "print(NormVecs[0,6],NormVecs[1,6])\n",
    "\n",
    "plt.imshow(Square, cmap = 'gray');\n",
    "plt.axis(\"off\");\n",
    "plt.plot(Snake[0,:], Snake[1,:], color = 'r', linewidth = 1)\n",
    "plt.quiver(Snake[0,:], Snake[1,:],NormVecs[0,:], NormVecs[1,:], color = 'r',angles='xy')\n",
    "\n",
    "plt.title('Normal Vectors');"
   ]
  },
  {
   "cell_type": "code",
   "execution_count": null,
   "metadata": {},
   "outputs": [],
   "source": [
    "def updateEdges(curve,ROI,notROI,step):\n",
    "    meanIn=np.mean(ROI)\n",
    "    meanOut=np.mean(notROI)\n",
    "    "
   ]
  },
  {
   "cell_type": "code",
   "execution_count": 231,
   "metadata": {},
   "outputs": [
    {
     "name": "stdout",
     "output_type": "stream",
     "text": [
      "90000\n"
     ]
    }
   ],
   "source": []
  },
  {
   "cell_type": "code",
   "execution_count": 158,
   "metadata": {},
   "outputs": [],
   "source": [
    "# Construct the transformation matrices:\n",
    "# Kernel for minimum length\n",
    "Lml = -2*np.identity(h, dtype = None).astype(np.int); \n",
    "for x in range(0,h):\n",
    "    Lml[x-1,x] = 1\n",
    "    Lml[x,x-1] = 1\n",
    "\n",
    "# Kernel for minimum curvature\n",
    "Lmc = -6*np.identity(h, dtype = None).astype(np.int)\n",
    "for x in range(0,h):\n",
    "    Lmc[x-1,x] = 4\n",
    "    Lmc[x,x-1] = 4\n",
    "    Lmc[x-2,x] = -1\n",
    "    Lmc[x,x-2] = -1"
   ]
  }
 ],
 "metadata": {
  "kernelspec": {
   "display_name": "Python 3",
   "language": "python",
   "name": "python3"
  },
  "language_info": {
   "codemirror_mode": {
    "name": "ipython",
    "version": 3
   },
   "file_extension": ".py",
   "mimetype": "text/x-python",
   "name": "python",
   "nbconvert_exporter": "python",
   "pygments_lexer": "ipython3",
   "version": "3.6.7"
  }
 },
 "nbformat": 4,
 "nbformat_minor": 2
}
